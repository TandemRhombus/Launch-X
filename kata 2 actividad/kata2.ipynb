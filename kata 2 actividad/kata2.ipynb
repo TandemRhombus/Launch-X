{
 "cells": [
  {
   "cell_type": "markdown",
   "metadata": {},
   "source": [
    "Instalar una biblioteca en un entorno virtual"
   ]
  },
  {
   "cell_type": "code",
   "execution_count": 1,
   "metadata": {},
   "outputs": [
    {
     "name": "stdout",
     "output_type": "stream",
     "text": [
      "argon2-cffi==21.3.0\n",
      "argon2-cffi-bindings==21.2.0\n",
      "attrs==21.4.0\n",
      "backcall==0.2.0\n",
      "bleach==4.1.0\n",
      "cffi==1.15.0\n",
      "colorama==0.4.4\n",
      "cycler==0.11.0\n",
      "debugpy==1.5.1\n",
      "decorator==5.1.1\n",
      "defusedxml==0.7.1\n",
      "entrypoints==0.4\n",
      "fonttools==4.29.1\n",
      "importlib-metadata==4.10.1\n",
      "importlib-resources==5.4.0\n",
      "ipykernel==6.8.0\n",
      "ipython==7.31.1\n",
      "ipython-genutils==0.2.0\n",
      "ipywidgets==7.6.5\n",
      "jedi==0.18.1\n",
      "Jinja2==3.0.3\n",
      "jsonschema==4.4.0\n",
      "jupyter-client==7.1.2\n",
      "jupyter-core==4.9.1\n",
      "jupyterlab-pygments==0.1.2\n",
      "jupyterlab-widgets==1.0.2\n",
      "kiwisolver==1.3.2\n",
      "MarkupSafe==2.0.1\n",
      "matplotlib==3.5.1\n",
      "matplotlib-inline==0.1.3\n",
      "mistune==0.8.4\n",
      "nbclient==0.5.10\n",
      "nbconvert==6.4.1\n",
      "nbformat==5.1.3\n",
      "nest-asyncio==1.5.4\n",
      "notebook==6.4.8\n",
      "numpy==1.21.5\n",
      "packaging==21.3\n",
      "pandocfilters==1.5.0\n",
      "parso==0.8.3\n",
      "pickleshare==0.7.5\n",
      "Pillow==9.0.1\n",
      "prometheus-client==0.13.1\n",
      "prompt-toolkit==3.0.26\n",
      "pycparser==2.21\n",
      "Pygments==2.11.2\n",
      "pyparsing==3.0.7\n",
      "pyrsistent==0.18.1\n",
      "python-dateutil==2.8.2\n",
      "pywin32==303\n",
      "pywinpty==2.0.2\n",
      "pyzmq==22.3.0\n",
      "Send2Trash==1.8.0\n",
      "six==1.16.0\n",
      "terminado==0.13.1\n",
      "testpath==0.5.0\n",
      "tornado==6.1\n",
      "traitlets==5.1.1\n",
      "typing-extensions==4.0.1\n",
      "wcwidth==0.2.5\n",
      "webencodings==0.5.1\n",
      "widgetsnbextension==3.5.2\n",
      "zipp==3.7.0\n",
      "Note: you may need to restart the kernel to use updated packages.\n"
     ]
    }
   ],
   "source": [
    "pip freeze"
   ]
  },
  {
   "cell_type": "code",
   "execution_count": 2,
   "metadata": {},
   "outputs": [
    {
     "name": "stdout",
     "output_type": "stream",
     "text": [
      "Requirement already satisfied: python-dateutil in c:\\users\\emiliano hernandez v\\appdata\\roaming\\python\\python37\\site-packages (2.8.2)\n",
      "Requirement already satisfied: six>=1.5 in c:\\users\\emiliano hernandez v\\appdata\\roaming\\python\\python37\\site-packages (from python-dateutil) (1.16.0)\n",
      "Note: you may need to restart the kernel to use updated packages.\n"
     ]
    },
    {
     "name": "stderr",
     "output_type": "stream",
     "text": [
      "You are using pip version 19.0.3, however version 22.0.3 is available.\n",
      "You should consider upgrading via the 'python -m pip install --upgrade pip' command.\n"
     ]
    }
   ],
   "source": [
    "pip install python-dateutil"
   ]
  },
  {
   "cell_type": "code",
   "execution_count": 3,
   "metadata": {},
   "outputs": [
    {
     "name": "stdout",
     "output_type": "stream",
     "text": [
      "argon2-cffi==21.3.0\n",
      "argon2-cffi-bindings==21.2.0\n",
      "attrs==21.4.0\n",
      "backcall==0.2.0\n",
      "bleach==4.1.0\n",
      "cffi==1.15.0\n",
      "colorama==0.4.4\n",
      "cycler==0.11.0\n",
      "debugpy==1.5.1\n",
      "decorator==5.1.1\n",
      "defusedxml==0.7.1\n",
      "entrypoints==0.4\n",
      "fonttools==4.29.1\n",
      "importlib-metadata==4.10.1\n",
      "importlib-resources==5.4.0\n",
      "ipykernel==6.8.0\n",
      "ipython==7.31.1\n",
      "ipython-genutils==0.2.0\n",
      "ipywidgets==7.6.5\n",
      "jedi==0.18.1\n",
      "Jinja2==3.0.3\n",
      "jsonschema==4.4.0\n",
      "jupyter-client==7.1.2\n",
      "jupyter-core==4.9.1\n",
      "jupyterlab-pygments==0.1.2\n",
      "jupyterlab-widgets==1.0.2\n",
      "kiwisolver==1.3.2\n",
      "MarkupSafe==2.0.1\n",
      "matplotlib==3.5.1\n",
      "matplotlib-inline==0.1.3\n",
      "mistune==0.8.4\n",
      "nbclient==0.5.10\n",
      "nbconvert==6.4.1\n",
      "nbformat==5.1.3\n",
      "nest-asyncio==1.5.4\n",
      "notebook==6.4.8\n",
      "numpy==1.21.5\n",
      "packaging==21.3\n",
      "pandocfilters==1.5.0\n",
      "parso==0.8.3\n",
      "pickleshare==0.7.5\n",
      "Pillow==9.0.1\n",
      "prometheus-client==0.13.1\n",
      "prompt-toolkit==3.0.26\n",
      "pycparser==2.21\n",
      "Pygments==2.11.2\n",
      "pyparsing==3.0.7\n",
      "pyrsistent==0.18.1\n",
      "python-dateutil==2.8.2\n",
      "pywin32==303\n",
      "pywinpty==2.0.2\n",
      "pyzmq==22.3.0\n",
      "Send2Trash==1.8.0\n",
      "six==1.16.0\n",
      "terminado==0.13.1\n",
      "testpath==0.5.0\n",
      "tornado==6.1\n",
      "traitlets==5.1.1\n",
      "typing-extensions==4.0.1\n",
      "wcwidth==0.2.5\n",
      "webencodings==0.5.1\n",
      "widgetsnbextension==3.5.2\n",
      "zipp==3.7.0\n",
      "Note: you may need to restart the kernel to use updated packages.\n"
     ]
    }
   ],
   "source": [
    "pip freeze"
   ]
  },
  {
   "cell_type": "code",
   "execution_count": 4,
   "metadata": {},
   "outputs": [
    {
     "ename": "NameError",
     "evalue": "name 'desactivate' is not defined",
     "output_type": "error",
     "traceback": [
      "\u001b[1;31m---------------------------------------------------------------------------\u001b[0m",
      "\u001b[1;31mNameError\u001b[0m                                 Traceback (most recent call last)",
      "\u001b[1;32m~\\AppData\\Local\\Temp\\ipykernel_26908\\2316996872.py\u001b[0m in \u001b[0;36m<module>\u001b[1;34m\u001b[0m\n\u001b[1;32m----> 1\u001b[1;33m \u001b[0mdesactivate\u001b[0m\u001b[1;33m\u001b[0m\u001b[1;33m\u001b[0m\u001b[0m\n\u001b[0m",
      "\u001b[1;31mNameError\u001b[0m: name 'desactivate' is not defined"
     ]
    }
   ],
   "source": [
    "Desactivate"
   ]
  },
  {
   "cell_type": "markdown",
   "metadata": {},
   "source": [
    "Esto es un ejemplo de lo que se hizo en CMD (Aparte de la creacion del entorno virtual)"
   ]
  }
 ],
 "metadata": {
  "interpreter": {
   "hash": "01c84ca2541e15d6c3d28e8c692fd58d02381a027768e21ec8ef2b922311fb74"
  },
  "kernelspec": {
   "display_name": "Python 3.7.3 64-bit",
   "language": "python",
   "name": "python3"
  },
  "language_info": {
   "codemirror_mode": {
    "name": "ipython",
    "version": 3
   },
   "file_extension": ".py",
   "mimetype": "text/x-python",
   "name": "python",
   "nbconvert_exporter": "python",
   "pygments_lexer": "ipython3",
   "version": "3.7.3"
  },
  "orig_nbformat": 4
 },
 "nbformat": 4,
 "nbformat_minor": 2
}
