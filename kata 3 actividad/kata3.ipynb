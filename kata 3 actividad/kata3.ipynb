{
 "cells": [
  {
   "cell_type": "markdown",
   "metadata": {},
   "source": [
    "Ejercicio - Escribir declaraciones if, else, y elif"
   ]
  },
  {
   "cell_type": "markdown",
   "metadata": {},
   "source": [
    "Un asteroide se acerca, y viaja a una velocidad de 49 km/s."
   ]
  },
  {
   "cell_type": "code",
   "execution_count": 6,
   "metadata": {},
   "outputs": [
    {
     "name": "stdout",
     "output_type": "stream",
     "text": [
      "alerta se acerca un asteroide a velocidades altas 49km/s.\n"
     ]
    }
   ],
   "source": [
    "asteroide=49\n",
    "if asteroide>25:\n",
    "    print(\"alerta se acerca un asteroide a velocidades altas \" + str(asteroide) + \"km/s.\")\n",
    "else:\n",
    "    print(\"El asteroide no es un peligro\")\n"
   ]
  },
  {
   "cell_type": "markdown",
   "metadata": {},
   "source": [
    "Si un asteroide entra en la atmósfera de la Tierra a una velocidad mayor o igual a 20 km/s, a veces produce un rayo de luz que se puede ver desde la Tierra. Escribe la lógica condicional que usa declaraciones if, else, y elif para alertar a las personas de todo el mundo que deben buscar un asteroide en el cielo. ¡Hay uno que se dirige a la tierra ahora a una velocidad de 19 km/s!"
   ]
  },
  {
   "cell_type": "code",
   "execution_count": 14,
   "metadata": {},
   "outputs": [
    {
     "name": "stdout",
     "output_type": "stream",
     "text": [
      "No se producira ningun efecto visible\n"
     ]
    }
   ],
   "source": [
    "asteroide=19\n",
    "if asteroide>=20:\n",
    "    print(\"Aviso: En este momento esta entrando un asteroide a la atmosfera del planeta y puede que se produsca un rayo de luz visible\")\n",
    "else: \n",
    "    print(\"No se producira ningun efecto visible\")"
   ]
  },
  {
   "cell_type": "markdown",
   "metadata": {},
   "source": [
    "Ejercicio: Uso de operadores and y or"
   ]
  },
  {
   "cell_type": "code",
   "execution_count": 15,
   "metadata": {},
   "outputs": [
    {
     "name": "stdout",
     "output_type": "stream",
     "text": [
      "Aviso: En este momento esta entrando un asteroide a la atmosfera del planeta y puede que se produsca un rayo de luz visible\n"
     ]
    }
   ],
   "source": [
    "velocidad_asteroide = 25\n",
    "tamaño_asteroide = 40\n",
    "if velocidad_asteroide > 25 and tamaño_asteroide > 25:\n",
    "    print(\"alerta se acerca un asteroide a velocidades altas \" + str(asteroide) + \"km/s.\")\n",
    "elif velocidad_asteroide >= 20:\n",
    "    print(\"Aviso: En este momento esta entrando un asteroide a la atmosfera del planeta y puede que se produsca un rayo de luz visible\")\n",
    "elif tamaño_asteroide < 25:\n",
    "    print(\"No se producira ningun efecto visible\")\n",
    "else:\n",
    "    print('Nada que ver aquí :)')"
   ]
  }
 ],
 "metadata": {
  "interpreter": {
   "hash": "01c84ca2541e15d6c3d28e8c692fd58d02381a027768e21ec8ef2b922311fb74"
  },
  "kernelspec": {
   "display_name": "Python 3.7.3 64-bit",
   "language": "python",
   "name": "python3"
  },
  "language_info": {
   "codemirror_mode": {
    "name": "ipython",
    "version": 3
   },
   "file_extension": ".py",
   "mimetype": "text/x-python",
   "name": "python",
   "nbconvert_exporter": "python",
   "pygments_lexer": "ipython3",
   "version": "3.7.3"
  },
  "orig_nbformat": 4
 },
 "nbformat": 4,
 "nbformat_minor": 2
}
